{
 "cells": [
  {
   "cell_type": "code",
   "execution_count": 1,
   "id": "5ce260e5",
   "metadata": {},
   "outputs": [],
   "source": [
    "import numpy as np\n",
    "import pandas as pd\n",
    "import networkx as nx\n",
    "import random\n",
    "import matplotlib.pyplot as plt\n",
    "import matplotlib as mpl\n",
    "import ast\n",
    "\n",
    "%matplotlib inline"
   ]
  },
  {
   "cell_type": "code",
   "execution_count": 2,
   "id": "f6c2071c",
   "metadata": {
    "scrolled": true
   },
   "outputs": [],
   "source": [
    "df = pd.read_csv('Seasons_Stats.csv')\n",
    "#df\n",
    "\n",
    "\n"
   ]
  },
  {
   "cell_type": "code",
   "execution_count": 3,
   "id": "575bf463",
   "metadata": {},
   "outputs": [
    {
     "name": "stdout",
     "output_type": "stream",
     "text": [
      "Curly Armstrong\n"
     ]
    }
   ],
   "source": [
    "#test print\n",
    "column = df[\"Player\"]\n",
    "print(column[0])"
   ]
  },
  {
   "cell_type": "code",
   "execution_count": 4,
   "id": "8bda6e22",
   "metadata": {
    "scrolled": true
   },
   "outputs": [],
   "source": [
    "G = nx.Graph()\n"
   ]
  },
  {
   "cell_type": "code",
   "execution_count": 5,
   "id": "55fa32c8",
   "metadata": {},
   "outputs": [],
   "source": [
    "#for x in range(len(df)):\n",
    "  #  print (df.loc[x])\n",
    "    "
   ]
  },
  {
   "cell_type": "code",
   "execution_count": 6,
   "id": "f293340a",
   "metadata": {},
   "outputs": [],
   "source": [
    "added_player = []\n",
    "players = []\n",
    "for x in range(len(df)):\n",
    "    player =  df.loc[x][\"Player\"]\n",
    "    team =  df.loc[x][\"Tm\"]\n",
    "    year = df.loc[x][\"Year\"]\n",
    "    idv_player = []\n",
    "    idv_player.append(player)\n",
    "    idv_player.append(team)\n",
    "    idv_player.append(year)\n",
    "    players.append(idv_player)\n",
    "    if player not in added_player:\n",
    "        G.add_node(player, type='player', color='green')\n",
    "        added_player.append(player)\n",
    "            \n",
    "for player1 in players:\n",
    "    for player2 in players:\n",
    "        if player1[1] == player2[1] and player1[2] == player2[2]:\n",
    "            G.add_edge(player1[0], player2[0])\n",
    "\n",
    "#nx.write_gexf(G, \"test.gexf\")\n"
   ]
  },
  {
   "cell_type": "code",
   "execution_count": 7,
   "id": "766ae948",
   "metadata": {},
   "outputs": [],
   "source": [
    "nx.write_graphml(G, \"nba2.graphml\")"
   ]
  },
  {
   "cell_type": "code",
   "execution_count": null,
   "id": "2d5744ef",
   "metadata": {},
   "outputs": [],
   "source": []
  },
  {
   "cell_type": "code",
   "execution_count": null,
   "id": "75d28e97",
   "metadata": {},
   "outputs": [],
   "source": []
  }
 ],
 "metadata": {
  "kernelspec": {
   "display_name": "Python 3.10.7 64-bit",
   "language": "python",
   "name": "python3"
  },
  "language_info": {
   "codemirror_mode": {
    "name": "ipython",
    "version": 3
   },
   "file_extension": ".py",
   "mimetype": "text/x-python",
   "name": "python",
   "nbconvert_exporter": "python",
   "pygments_lexer": "ipython3",
   "version": "3.10.7"
  },
  "vscode": {
   "interpreter": {
    "hash": "44dfc2b49ac5191ffbca7fe4d56c09fa76f8865b42604fc4da3b8d58b6de4a50"
   }
  }
 },
 "nbformat": 4,
 "nbformat_minor": 5
}
